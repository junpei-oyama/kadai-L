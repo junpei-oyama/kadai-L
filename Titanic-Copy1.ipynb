{
 "cells": [
  {
   "cell_type": "code",
   "execution_count": 15,
   "metadata": {
    "ExecuteTime": {
     "end_time": "2019-10-07T08:49:05.393927Z",
     "start_time": "2019-10-07T08:49:05.385952Z"
    }
   },
   "outputs": [],
   "source": [
    "import warnings\n",
    "\n",
    "import matplotlib.pyplot as plt\n",
    "import numpy as np\n",
    "import pandas as pd\n",
    "import seaborn as sns\n",
    "\n",
    "warnings.filterwarnings('ignore')\n",
    "\n",
    "%matplotlib inline"
   ]
  },
  {
   "cell_type": "code",
   "execution_count": 16,
   "metadata": {
    "ExecuteTime": {
     "end_time": "2019-10-07T08:49:05.423850Z",
     "start_time": "2019-10-07T08:49:05.396920Z"
    }
   },
   "outputs": [
    {
     "data": {
      "text/plain": [
       "(Index(['Survived', 'Sex', 'Cabin'], dtype='object'),\n",
       " Index(['Sex', 'Cabin'], dtype='object'))"
      ]
     },
     "execution_count": 16,
     "metadata": {},
     "output_type": "execute_result"
    }
   ],
   "source": [
    "# データの読み込み\n",
    "train = pd.read_csv('input/train.csv', usecols=['Survived', 'Sex', 'Cabin'])\n",
    "test = pd.read_csv('input/test.csv', usecols=['Sex', 'Cabin'])\n",
    "\n",
    "train.columns, test.columns"
   ]
  },
  {
   "cell_type": "code",
   "execution_count": 17,
   "metadata": {
    "ExecuteTime": {
     "end_time": "2019-10-07T08:49:05.430827Z",
     "start_time": "2019-10-07T08:49:05.426839Z"
    }
   },
   "outputs": [],
   "source": [
    "# df = pd.concat([df, pd.get_dummies(df['Pclass'], prefix='Pclass')], axis=1)"
   ]
  },
  {
   "cell_type": "markdown",
   "metadata": {},
   "source": [
    "# データの前処理"
   ]
  },
  {
   "cell_type": "code",
   "execution_count": 18,
   "metadata": {
    "ExecuteTime": {
     "end_time": "2019-10-07T08:49:05.441799Z",
     "start_time": "2019-10-07T08:49:05.433820Z"
    }
   },
   "outputs": [],
   "source": [
    "# 性別を0, 1に変換\n",
    "sex_copy = train['Sex'].map({'male': 0, 'female': 1}).astype(int)\n",
    "train['Sex'] = sex_copy"
   ]
  },
  {
   "cell_type": "markdown",
   "metadata": {},
   "source": [
    "年代別生存率  \n",
    "0～10: 0.59  \n",
    "10～20: 0.38  \n",
    "20～30: 0.37  \n",
    "30～40: 0.45  \n",
    "40～50: 0.38  \n",
    "50～60: 0.40  \n",
    "60～70: 0.24  \n",
    "70～80: 0.20  "
   ]
  },
  {
   "cell_type": "code",
   "execution_count": 19,
   "metadata": {
    "ExecuteTime": {
     "end_time": "2019-10-07T08:49:05.455763Z",
     "start_time": "2019-10-07T08:49:05.443793Z"
    }
   },
   "outputs": [],
   "source": [
    "#　✜ ⇐ D E B F C G A T n  ⇒ ☠\n",
    "# キャビンを頭文字だけにして、欠損値はXとする\n",
    "train['Cabin'] = train['Cabin'].fillna('X')\n",
    "\n",
    "levels = []\n",
    "for level in train['Cabin']:\n",
    "    levels.append(str(level)[0])\n",
    "    \n",
    "train['Cabin'] = levels\n",
    "\n",
    "train['Cabin'] = train['Cabin'].map({'X': 0, 'A': 2, 'B': 6, 'C': 4, 'D': 8, 'E': 7, 'F': 5, 'G': 3, 'T': 1})\n",
    "\n",
    "# levels = []\n",
    "# for level in train['Cabin']:\n",
    "#     if str(level) != 'X':\n",
    "#         levels.append(1)\n",
    "#     else:\n",
    "#         levels.append(0)\n",
    "# train['Cabin_flag'] = levels\n",
    "# train = train.drop(columns=['Cabin'])"
   ]
  },
  {
   "cell_type": "code",
   "execution_count": 20,
   "metadata": {
    "ExecuteTime": {
     "end_time": "2019-10-07T08:49:26.755485Z",
     "start_time": "2019-10-07T08:49:26.546150Z"
    }
   },
   "outputs": [
    {
     "data": {
      "text/plain": [
       "<matplotlib.axes._subplots.AxesSubplot at 0x1868c25f4a8>"
      ]
     },
     "execution_count": 20,
     "metadata": {},
     "output_type": "execute_result"
    },
    {
     "data": {
      "image/png": "[encoded data removed]",
      "text/plain": [
       "<Figure size 432x288 with 2 Axes>"
      ]
     },
     "metadata": {
      "needs_background": "light"
     },
     "output_type": "display_data"
    }
   ],
   "source": [
    "train.head(10)\n",
    "sns.heatmap(train.corr(), annot=True)"
   ]
  },
  {
   "cell_type": "markdown",
   "metadata": {},
   "source": [
    "# データの分割"
   ]
  },
  {
   "cell_type": "code",
   "execution_count": 21,
   "metadata": {
    "ExecuteTime": {
     "end_time": "2019-10-07T08:50:23.443796Z",
     "start_time": "2019-10-07T08:50:23.433819Z"
    }
   },
   "outputs": [
    {
     "data": {
      "text/plain": [
       "((668, 2), (223, 2))"
      ]
     },
     "execution_count": 21,
     "metadata": {},
     "output_type": "execute_result"
    }
   ],
   "source": [
    "from sklearn.model_selection import train_test_split\n",
    "\n",
    "X_train, X_valid, y_train, y_valid = train_test_split(train.drop(columns=['Survived']),\n",
    "                                                    train['Survived'],\n",
    "                                                    random_state=0)\n",
    "\n",
    "X_train.shape, X_valid.shape"
   ]
  },
  {
   "cell_type": "code",
   "execution_count": 22,
   "metadata": {
    "ExecuteTime": {
     "end_time": "2019-10-07T08:50:24.036624Z",
     "start_time": "2019-10-07T08:50:24.023631Z"
    }
   },
   "outputs": [
    {
     "data": {
      "text/plain": [
       "0.7892376681614349"
      ]
     },
     "execution_count": 22,
     "metadata": {},
     "output_type": "execute_result"
    }
   ],
   "source": [
    "from sklearn.linear_model import LogisticRegression\n",
    "\n",
    "logreg1 = LogisticRegression(C=1)\n",
    "logreg1.fit(X_train, y_train)\n",
    "\n",
    "logreg1.score(X_valid, y_valid)"
   ]
  },
  {
   "cell_type": "code",
   "execution_count": 23,
   "metadata": {
    "ExecuteTime": {
     "end_time": "2019-10-07T08:50:24.809473Z",
     "start_time": "2019-10-07T08:50:24.797505Z"
    }
   },
   "outputs": [
    {
     "data": {
      "text/plain": [
       "0.7892376681614349"
      ]
     },
     "execution_count": 23,
     "metadata": {},
     "output_type": "execute_result"
    }
   ],
   "source": [
    "logreg2 = LogisticRegression(C=10)\n",
    "logreg2.fit(X_train, y_train)\n",
    "\n",
    "logreg2.score(X_valid, y_valid)"
   ]
  },
  {
   "cell_type": "code",
   "execution_count": 24,
   "metadata": {
    "ExecuteTime": {
     "end_time": "2019-10-07T08:50:26.192540Z",
     "start_time": "2019-10-07T08:50:26.182567Z"
    }
   },
   "outputs": [
    {
     "data": {
      "text/plain": [
       "0.7892376681614349"
      ]
     },
     "execution_count": 24,
     "metadata": {},
     "output_type": "execute_result"
    }
   ],
   "source": [
    "logreg3 = LogisticRegression(C=100)\n",
    "logreg3.fit(X_train, y_train)\n",
    "\n",
    "logreg3.score(X_valid, y_valid)"
   ]
  },
  {
   "cell_type": "markdown",
   "metadata": {},
   "source": [
    "# 良かったモデルで再学習"
   ]
  },
  {
   "cell_type": "code",
   "execution_count": 11,
   "metadata": {
    "ExecuteTime": {
     "end_time": "2019-10-07T08:38:29.051062Z",
     "start_time": "2019-10-07T08:38:29.034109Z"
    }
   },
   "outputs": [
    {
     "data": {
      "text/plain": [
       "LogisticRegression(C=10, class_weight=None, dual=False, fit_intercept=True,\n",
       "                   intercept_scaling=1, l1_ratio=None, max_iter=100,\n",
       "                   multi_class='warn', n_jobs=None, penalty='l2',\n",
       "                   random_state=None, solver='warn', tol=0.0001, verbose=0,\n",
       "                   warm_start=False)"
      ]
     },
     "execution_count": 11,
     "metadata": {},
     "output_type": "execute_result"
    }
   ],
   "source": [
    "final_model = LogisticRegression(C=10)\n",
    "final_model.fit(train.drop(columns=['Survived']), train['Survived'])"
   ]
  },
  {
   "cell_type": "markdown",
   "metadata": {},
   "source": [
    "# テストデータでの予測"
   ]
  },
  {
   "cell_type": "code",
   "execution_count": 12,
   "metadata": {
    "ExecuteTime": {
     "end_time": "2019-10-07T08:38:29.061035Z",
     "start_time": "2019-10-07T08:38:29.053058Z"
    }
   },
   "outputs": [],
   "source": [
    "# テストデータにも同じ前処理\n",
    "# Sex\n",
    "sex_copy = test['Sex'].map({'male': 0, 'female': 1}).astype(int)\n",
    "test['Sex'] = sex_copy\n",
    "\n",
    "# # Cabin\n",
    " test['Cabin'] = test['Cabin'].fillna('X')\n",
    "\n",
    "levels = []\n",
    "for level in test['Cabin']:\n",
    "    if str(level) != 'X':\n",
    "        levels.append(1)\n",
    "    else:\n",
    "        levels.append(0)\n",
    "test['Cabin_flag'] = levels\n",
    "test = test.drop(columns=['Cabin'])"
   ]
  },
  {
   "cell_type": "code",
   "execution_count": 13,
   "metadata": {
    "ExecuteTime": {
     "end_time": "2019-10-07T08:38:29.083974Z",
     "start_time": "2019-10-07T08:38:29.066022Z"
    }
   },
   "outputs": [
    {
     "data": {
      "text/plain": [
       "array([0, 1, 0, 0, 1, 0, 1, 0, 1, 0, 0, 0, 1, 0, 1, 1, 0, 0, 1, 1, 0, 0,\n",
       "       1, 0, 1, 0, 1, 0, 0, 0, 0, 0, 1, 1, 0, 0, 1, 1, 0, 0, 0, 0, 0, 1,\n",
       "       1, 0, 0, 0, 1, 1, 0, 0, 1, 1, 0, 0, 0, 0, 0, 1, 0, 0, 0, 1, 0, 1,\n",
       "       1, 0, 0, 1, 1, 0, 1, 0, 1, 0, 0, 1, 0, 1, 0, 0, 0, 0, 0, 0, 1, 1,\n",
       "       1, 0, 1, 0, 1, 0, 0, 0, 1, 0, 1, 0, 1, 0, 0, 0, 1, 0, 0, 0, 0, 0,\n",
       "       0, 1, 1, 1, 1, 0, 0, 1, 0, 1, 1, 0, 1, 0, 0, 1, 0, 1, 0, 0, 0, 0,\n",
       "       1, 0, 0, 0, 0, 0, 1, 0, 1, 1, 0, 0, 0, 0, 0, 0, 0, 0, 1, 0, 0, 1,\n",
       "       0, 0, 1, 1, 0, 1, 1, 0, 1, 0, 0, 1, 0, 0, 1, 1, 0, 0, 0, 0, 0, 1,\n",
       "       1, 0, 1, 1, 0, 0, 1, 0, 1, 0, 1, 0, 1, 0, 0, 0, 0, 0, 0, 0, 0, 1,\n",
       "       0, 1, 1, 0, 0, 1, 0, 0, 1, 0, 1, 0, 0, 0, 0, 1, 1, 0, 1, 0, 1, 0,\n",
       "       1, 0, 1, 0, 1, 1, 0, 1, 0, 0, 0, 1, 0, 0, 0, 0, 0, 0, 1, 1, 1, 1,\n",
       "       0, 0, 0, 0, 1, 0, 1, 1, 1, 0, 0, 0, 0, 0, 0, 0, 1, 0, 0, 0, 1, 1,\n",
       "       0, 0, 0, 0, 1, 0, 0, 0, 1, 1, 0, 1, 0, 0, 0, 0, 1, 0, 1, 1, 1, 0,\n",
       "       0, 0, 0, 0, 0, 1, 0, 0, 0, 0, 1, 0, 0, 0, 0, 0, 0, 0, 1, 1, 0, 0,\n",
       "       0, 1, 0, 0, 0, 1, 1, 1, 0, 0, 0, 0, 0, 0, 0, 0, 1, 0, 1, 0, 0, 0,\n",
       "       1, 0, 0, 1, 0, 0, 0, 0, 0, 0, 0, 0, 0, 1, 0, 1, 0, 1, 0, 1, 1, 0,\n",
       "       0, 0, 1, 0, 1, 0, 0, 1, 0, 1, 1, 0, 1, 1, 0, 1, 1, 0, 0, 1, 0, 0,\n",
       "       1, 1, 1, 0, 0, 0, 0, 0, 1, 1, 0, 1, 0, 0, 0, 0, 0, 1, 0, 0, 0, 1,\n",
       "       0, 1, 0, 0, 1, 0, 1, 0, 0, 0, 0, 0, 1, 1, 1, 1, 1, 0, 1, 0, 0, 0],\n",
       "      dtype=int64)"
      ]
     },
     "execution_count": 13,
     "metadata": {},
     "output_type": "execute_result"
    }
   ],
   "source": [
    "final_model.predict(test)"
   ]
  },
  {
   "cell_type": "code",
   "execution_count": 14,
   "metadata": {
    "ExecuteTime": {
     "end_time": "2019-10-07T08:38:29.109904Z",
     "start_time": "2019-10-07T08:38:29.086966Z"
    }
   },
   "outputs": [],
   "source": [
    "submit_data = pd.read_csv('input/gender_submission.csv')\n",
    "\n",
    "submit_data['Survived'] = final_model.predict(test)\n",
    "\n",
    "# CSVで保存\n",
    "submit_data.to_csv('20191007_05_logreg1.csv', index=False)"
   ]
  },
  {
   "cell_type": "code",
   "execution_count": null,
   "metadata": {},
   "outputs": [],
   "source": []
  }
 ],
 "metadata": {
  "kernelspec": {
   "display_name": "Python 3",
   "language": "python",
   "name": "python3"
  },
  "language_info": {
   "codemirror_mode": {
    "name": "ipython",
    "version": 3
   },
   "file_extension": ".py",
   "mimetype": "text/x-python",
   "name": "python",
   "nbconvert_exporter": "python",
   "pygments_lexer": "ipython3",
   "version": "3.7.3"
  },
  "toc": {
   "base_numbering": 1,
   "nav_menu": {},
   "number_sections": true,
   "sideBar": true,
   "skip_h1_title": false,
   "title_cell": "Table of Contents",
   "title_sidebar": "Contents",
   "toc_cell": false,
   "toc_position": {},
   "toc_section_display": true,
   "toc_window_display": false
  }
 },
 "nbformat": 4,
 "nbformat_minor": 2
}
